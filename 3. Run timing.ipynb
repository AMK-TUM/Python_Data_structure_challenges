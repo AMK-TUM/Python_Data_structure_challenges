{
 "cells": [
  {
   "cell_type": "code",
   "execution_count": 1,
   "metadata": {},
   "outputs": [],
   "source": [
    "# In this notebook, we will write a function that asks the user about how much it took them to run 10km.\n",
    "# The program exits if the user presses 'Enter'\n",
    "# On exiting the program, it outputs the average speed"
   ]
  },
  {
   "cell_type": "code",
   "execution_count": 17,
   "metadata": {},
   "outputs": [],
   "source": [
    "def run_timing():\n",
    "    \n",
    "    # Lets first initialize the terms.\n",
    "    # The number of times the user inputs a value\n",
    "    no_of_time = 0\n",
    "    \n",
    "    # The time accumulation\n",
    "    time = 0\n",
    "    \n",
    "    while True:\n",
    "        \n",
    "        a = input('How much time it took to run 10 km:')\n",
    "        \n",
    "        # If a is an empty string then this function will break out\n",
    "        if not a:\n",
    "            break\n",
    "            \n",
    "      \n",
    "        no_of_time += 1\n",
    "            \n",
    "        time += float(a)\n",
    "            \n",
    "    avg = time/no_of_time\n",
    "                \n",
    "    print(f'The average speed of the user is: {avg:.2f}') # using this allows to limit the output to two decimal places\n",
    "            \n",
    "    \n",
    "    \n"
   ]
  },
  {
   "cell_type": "code",
   "execution_count": 18,
   "metadata": {},
   "outputs": [
    {
     "name": "stdout",
     "output_type": "stream",
     "text": [
      "How much time it took to run 10 km:2\n",
      "How much time it took to run 10 km:4\n",
      "How much time it took to run 10 km:1\n",
      "How much time it took to run 10 km:\n",
      "The average speed of the user is: 2.33\n"
     ]
    }
   ],
   "source": [
    "run_timing()"
   ]
  },
  {
   "cell_type": "code",
   "execution_count": null,
   "metadata": {},
   "outputs": [],
   "source": []
  },
  {
   "cell_type": "code",
   "execution_count": null,
   "metadata": {},
   "outputs": [],
   "source": []
  },
  {
   "cell_type": "code",
   "execution_count": null,
   "metadata": {},
   "outputs": [],
   "source": []
  }
 ],
 "metadata": {
  "kernelspec": {
   "display_name": "Python 3",
   "language": "python",
   "name": "python3"
  },
  "language_info": {
   "codemirror_mode": {
    "name": "ipython",
    "version": 3
   },
   "file_extension": ".py",
   "mimetype": "text/x-python",
   "name": "python",
   "nbconvert_exporter": "python",
   "pygments_lexer": "ipython3",
   "version": "3.7.4"
  }
 },
 "nbformat": 4,
 "nbformat_minor": 2
}
